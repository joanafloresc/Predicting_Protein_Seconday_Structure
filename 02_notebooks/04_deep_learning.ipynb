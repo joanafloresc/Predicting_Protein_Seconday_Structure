{
 "cells": [
  {
   "cell_type": "markdown",
   "id": "c1e88cff",
   "metadata": {},
   "source": [
    "# 05 Deep Learning Modelling"
   ]
  },
  {
   "cell_type": "markdown",
   "id": "46cb57d0",
   "metadata": {},
   "source": [
    "Importing libraries."
   ]
  },
  {
   "cell_type": "code",
   "execution_count": 1,
   "id": "1eb041a3",
   "metadata": {},
   "outputs": [],
   "source": [
    "import pandas as pd\n",
    "import numpy as np\n",
    "\n",
    "import yaml\n",
    "\n",
    "import tensorflow as tf\n",
    "from tensorflow import keras\n",
    "from tensorflow.keras.layers import Flatten, Dense, Dropout\n",
    "from tensorflow.keras.callbacks import EarlyStopping\n",
    "from tensorflow.keras.callbacks import ModelCheckpoint "
   ]
  },
  {
   "cell_type": "markdown",
   "id": "c9870daa",
   "metadata": {},
   "source": [
    "Reading files."
   ]
  },
  {
   "cell_type": "code",
   "execution_count": 2,
   "id": "1e85f98b",
   "metadata": {},
   "outputs": [],
   "source": [
    "try:\n",
    "    with open('../params.yml','r') as file:\n",
    "        config = yaml.safe_load(file)  \n",
    "except Exception as e:\n",
    "    print('Error reading the config file')"
   ]
  },
  {
   "cell_type": "code",
   "execution_count": 3,
   "id": "4067633e",
   "metadata": {},
   "outputs": [
    {
     "data": {
      "text/plain": [
       "{'raw_data_1': '../01_data/PDB_31-07-2011.csv',\n",
       " 'raw_data_2': '../01_data/PDB_31-12-2012.csv',\n",
       " 'data': '../01_data/data.csv',\n",
       " 'new_data': '../01_data/new_data.csv',\n",
       " 'xy': '../01_data/xy.csv',\n",
       " 'xy_06': '../01_data/xy_06.csv',\n",
       " 'xy_enc': '../01_data/xy_enc.csv'}"
      ]
     },
     "execution_count": 3,
     "metadata": {},
     "output_type": "execute_result"
    }
   ],
   "source": [
    "config"
   ]
  },
  {
   "cell_type": "code",
   "execution_count": 4,
   "id": "9925fb2a",
   "metadata": {},
   "outputs": [],
   "source": [
    "xy = pd.read_csv(config['xy_enc'])[:50000]"
   ]
  },
  {
   "cell_type": "code",
   "execution_count": 5,
   "id": "7b3725ec",
   "metadata": {},
   "outputs": [],
   "source": [
    "x = xy.iloc[:,0:100]"
   ]
  },
  {
   "cell_type": "markdown",
   "id": "e0464f25",
   "metadata": {},
   "source": [
    "### Enconding y"
   ]
  },
  {
   "cell_type": "code",
   "execution_count": 6,
   "id": "765b1fb2",
   "metadata": {},
   "outputs": [
    {
     "data": {
      "text/plain": [
       "array([[0., 0., 1.],\n",
       "       [0., 0., 1.],\n",
       "       [0., 0., 1.],\n",
       "       ...,\n",
       "       [0., 1., 0.],\n",
       "       [1., 0., 0.],\n",
       "       [1., 0., 0.]])"
      ]
     },
     "execution_count": 6,
     "metadata": {},
     "output_type": "execute_result"
    }
   ],
   "source": [
    "from sklearn.preprocessing import OneHotEncoder\n",
    "\n",
    "encoder= OneHotEncoder().fit(xy[['y3']])\n",
    "\n",
    "y_enc = encoder.transform(xy[['y3']]).toarray()\n",
    "y_enc\n",
    "\n",
    "#y_enc_df = pd.DataFrame(y_enc, columns = encoder.get_feature_names_out())"
   ]
  },
  {
   "cell_type": "code",
   "execution_count": 7,
   "id": "447ad42d",
   "metadata": {},
   "outputs": [],
   "source": [
    "# Split the training and test data.\n",
    "from sklearn.model_selection import train_test_split\n",
    "\n",
    "np.random.seed(10)      #fix the random number generator, useful if you are including different columns\n",
    "x_train, x_test, y_train, y_test = train_test_split(x,y_enc, test_size=0.3, random_state=42)"
   ]
  },
  {
   "cell_type": "code",
   "execution_count": 8,
   "id": "971ab9da",
   "metadata": {},
   "outputs": [
    {
     "data": {
      "text/plain": [
       "(35000, 100)"
      ]
     },
     "execution_count": 8,
     "metadata": {},
     "output_type": "execute_result"
    }
   ],
   "source": [
    "x_train.shape"
   ]
  },
  {
   "cell_type": "code",
   "execution_count": 9,
   "id": "e6ea2d35",
   "metadata": {},
   "outputs": [
    {
     "data": {
      "text/plain": [
       "(35000, 3)"
      ]
     },
     "execution_count": 9,
     "metadata": {},
     "output_type": "execute_result"
    }
   ],
   "source": [
    "y_train.shape"
   ]
  },
  {
   "cell_type": "code",
   "execution_count": null,
   "id": "5db462ea",
   "metadata": {},
   "outputs": [],
   "source": [
    "%run functions.py"
   ]
  },
  {
   "cell_type": "markdown",
   "id": "eedb3ebc",
   "metadata": {},
   "source": [
    "### Adding layers"
   ]
  },
  {
   "cell_type": "code",
   "execution_count": 14,
   "id": "5cfa727a",
   "metadata": {},
   "outputs": [],
   "source": [
    "model = keras.Sequential()\n",
    "\n",
    "model.add(Dense(units = 3000, activation='relu', input_shape=(100,) ))\n",
    "model.add(Dense(units = 1500, activation='relu', input_shape=(100,) ))\n",
    "model.add(Dense(units = 900, activation='relu', input_shape=(100,) ))\n",
    "model.add(Dense(units = 450, activation='relu', input_shape=(100,) ))\n",
    "model.add(Dense(units = 3, activation='softmax'))\n",
    "\n",
    "model.compile(optimizer='adam', loss='categorical_crossentropy', metrics='accuracy')\n",
    "\n",
    "history = model.fit(\n",
    "    x_train, y_train, \n",
    "    epochs=100, \n",
    "    batch_size=32, verbose=0)"
   ]
  },
  {
   "cell_type": "markdown",
   "id": "9cb486e6",
   "metadata": {},
   "source": [
    "### Plotting accuracy"
   ]
  },
  {
   "cell_type": "code",
   "execution_count": 1,
   "id": "95846a2c",
   "metadata": {},
   "outputs": [
    {
     "name": "stdout",
     "output_type": "stream",
     "text": [
      "Appending to functions.py\n"
     ]
    }
   ],
   "source": [
    "%%writefile -a functions.py\n",
    "\n",
    "import matplotlib.pyplot as plt\n",
    "\n",
    "def plot_loss_accuracy(history):\n",
    "    historydf = pd.DataFrame(history.history, index=history.epoch)\n",
    "    plt.figure(figsize=(8, 6))\n",
    "    historydf.plot(ylim=(0, max(1, historydf.values.max())))\n",
    "    loss = history.history['loss'][-1]\n",
    "    acc = history.history['accuracy'][-1] #'acc'\n",
    "    plt.title('Loss: %.3f, Accuracy: %.3f' % (loss, acc))"
   ]
  },
  {
   "cell_type": "code",
   "execution_count": 15,
   "id": "801309f6",
   "metadata": {},
   "outputs": [
    {
     "data": {
      "text/plain": [
       "<Figure size 800x600 with 0 Axes>"
      ]
     },
     "metadata": {},
     "output_type": "display_data"
    },
    {
     "data": {
      "image/png": "[encoded data removed]",
      "text/plain": [
       "<Figure size 640x480 with 1 Axes>"
      ]
     },
     "metadata": {},
     "output_type": "display_data"
    }
   ],
   "source": [
    "plot_loss_accuracy(history)"
   ]
  },
  {
   "cell_type": "markdown",
   "id": "bc5e5c73",
   "metadata": {},
   "source": [
    "### Scoring the model"
   ]
  },
  {
   "cell_type": "code",
   "execution_count": 2,
   "id": "dba1ded6",
   "metadata": {},
   "outputs": [
    {
     "name": "stdout",
     "output_type": "stream",
     "text": [
      "Appending to functions.py\n"
     ]
    }
   ],
   "source": [
    "%%writefile -a functions.py\n",
    "\n",
    "from sklearn.metrics import cohen_kappa_score, classification_report \n",
    "\n",
    "def model_performance_class(y_train, y_pred_train, y_test, y_pred_test):\n",
    "\n",
    "    print(\"Results obtained for the TRAIN SET\")\n",
    "    print(\"==================================\")\n",
    "    print(\"The Cohen's Kappa is: {:.2f}\".format(cohen_kappa_score(y_train, y_pred_train)))\n",
    "    print(classification_report(y_train, y_pred_train))\n",
    "    print(\"==================================\")\n",
    "    print(\"Results obtained for the TEST SET\")\n",
    "    print(\"The Cohen's Kappa is: {:.2f}\".format(cohen_kappa_score(y_test, y_pred_test)))\n",
    "    print(classification_report(y_test, y_pred_test))"
   ]
  },
  {
   "cell_type": "code",
   "execution_count": 20,
   "id": "b5bbe087",
   "metadata": {},
   "outputs": [],
   "source": [
    "y_train_tr = [0 if str(x)=='[0. 0. 1.]' else(1 if str(x)=='[1. 0. 0.]' else 2) for x in y_train]"
   ]
  },
  {
   "cell_type": "code",
   "execution_count": 21,
   "id": "fc4e5964",
   "metadata": {},
   "outputs": [],
   "source": [
    "y_test_tr = [0 if str(x)=='[0. 0. 1.]' else(1 if str(x)=='[1. 0. 0.]' else 2) for x in y_test]"
   ]
  },
  {
   "cell_type": "code",
   "execution_count": 22,
   "id": "c1151c2e",
   "metadata": {},
   "outputs": [
    {
     "name": "stdout",
     "output_type": "stream",
     "text": [
      "1094/1094 [==============================] - 23s 21ms/step\n",
      "469/469 [==============================] - 10s 21ms/step\n"
     ]
    }
   ],
   "source": [
    "y_pred_tr = np.argmax(model.predict(x_train), axis=1).reshape(-1,1)\n",
    "\n",
    "y_pred_te = np.argmax(model.predict(x_test), axis=1).reshape(-1,1)"
   ]
  },
  {
   "cell_type": "code",
   "execution_count": 23,
   "id": "6146f56d",
   "metadata": {},
   "outputs": [
    {
     "name": "stdout",
     "output_type": "stream",
     "text": [
      "Results obtained for the TRAIN SET\n",
      "==================================\n",
      "The Cohen's Kappa is: -0.48\n",
      "              precision    recall  f1-score   support\n",
      "\n",
      "           0       0.00      0.00      0.00     12545\n",
      "           1       0.00      0.00      0.00     14137\n",
      "           2       0.00      0.00      0.00      8318\n",
      "\n",
      "    accuracy                           0.00     35000\n",
      "   macro avg       0.00      0.00      0.00     35000\n",
      "weighted avg       0.00      0.00      0.00     35000\n",
      "\n",
      "==================================\n",
      "Results obtained for the TEST SET\n",
      "The Cohen's Kappa is: -0.12\n",
      "              precision    recall  f1-score   support\n",
      "\n",
      "           0       0.24      0.24      0.24      5565\n",
      "           1       0.30      0.17      0.22      5918\n",
      "           2       0.20      0.35      0.26      3517\n",
      "\n",
      "    accuracy                           0.24     15000\n",
      "   macro avg       0.25      0.26      0.24     15000\n",
      "weighted avg       0.26      0.24      0.24     15000\n",
      "\n"
     ]
    }
   ],
   "source": [
    "model_performance_class(y_train_tr, y_pred_tr, y_test_tr, y_pred_te)"
   ]
  }
 ],
 "metadata": {
  "kernelspec": {
   "display_name": "projw9",
   "language": "python",
   "name": "projw9"
  },
  "language_info": {
   "codemirror_mode": {
    "name": "ipython",
    "version": 3
   },
   "file_extension": ".py",
   "mimetype": "text/x-python",
   "name": "python",
   "nbconvert_exporter": "python",
   "pygments_lexer": "ipython3",
   "version": "3.9.13"
  }
 },
 "nbformat": 4,
 "nbformat_minor": 5
}
